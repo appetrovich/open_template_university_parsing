{
 "cells": [
  {
   "cell_type": "code",
   "execution_count": 1,
   "metadata": {},
   "outputs": [
    {
     "name": "stdout",
     "output_type": "stream",
     "text": [
      "spbu\n",
      "university_assistant\n",
      "spbu_basic_data\n"
     ]
    }
   ],
   "source": [
    "import sys\n",
    "import json\n",
    "import pandas as pd\n",
    "\n",
    "sys.path.append('../../')\n",
    "\n",
    "from commonlib.data_manipulation import parse_data\n",
    "from database import BasicData, TimetableData, NewsData\n",
    "\n",
    "with open('parsing_settings.json') as file:\n",
    "    settings = json.load(file)\n",
    "\n",
    "UNI_NAME = settings['uni_name']\n",
    "DB_NAME = settings['db_name']\n",
    "\n",
    "print(UNI_NAME) #идентификатор университа\n",
    "print(DB_NAME) #идентификатор Базы данных\n",
    "print(BasicData.__tablename__) #Базовая таблица (в которую сохраняется основная статическая информация страницы)"
   ]
  },
  {
   "cell_type": "markdown",
   "metadata": {},
   "source": [
    "# Парсеры"
   ]
  },
  {
   "cell_type": "markdown",
   "metadata": {},
   "source": [
    "### Блок \"Виртуальная приемная\"\n",
    "https://guestbook.spbu.ru/vse-obrashcheniya.html"
   ]
  },
  {
   "cell_type": "code",
   "execution_count": 2,
   "metadata": {},
   "outputs": [],
   "source": [
    "from template_block_parsers import Guestbook_parser\n",
    "guest_parser = Guestbook_parser(1, time_sleep=False)"
   ]
  },
  {
   "cell_type": "code",
   "execution_count": null,
   "metadata": {},
   "outputs": [],
   "source": [
    "#!Для парсинга используйте функцию parse_data \n",
    "guest_df = parse_data(guest_parser)"
   ]
  },
  {
   "cell_type": "code",
   "execution_count": 4,
   "metadata": {},
   "outputs": [
    {
     "data": {
      "text/html": [
       "<div>\n",
       "<style scoped>\n",
       "    .dataframe tbody tr th:only-of-type {\n",
       "        vertical-align: middle;\n",
       "    }\n",
       "\n",
       "    .dataframe tbody tr th {\n",
       "        vertical-align: top;\n",
       "    }\n",
       "\n",
       "    .dataframe thead th {\n",
       "        text-align: right;\n",
       "    }\n",
       "</style>\n",
       "<table border=\"1\" class=\"dataframe\">\n",
       "  <thead>\n",
       "    <tr style=\"text-align: right;\">\n",
       "      <th></th>\n",
       "      <th>url</th>\n",
       "      <th>topic_block</th>\n",
       "      <th>parsing_date</th>\n",
       "      <th>public_date</th>\n",
       "      <th>title</th>\n",
       "      <th>context</th>\n",
       "    </tr>\n",
       "  </thead>\n",
       "  <tbody>\n",
       "    <tr>\n",
       "      <th>0</th>\n",
       "      <td>https://guestbook.spbu.ru/uchenyj-sekretar-uc/...</td>\n",
       "      <td>guestbook</td>\n",
       "      <td>2024-02-21</td>\n",
       "      <td>2024-02-20</td>\n",
       "      <td>Рассмотрение диссертации (пакет документов)</td>\n",
       "      <td>Рассмотрение диссертации (пакет документов) - ...</td>\n",
       "    </tr>\n",
       "    <tr>\n",
       "      <th>1</th>\n",
       "      <td>https://guestbook.spbu.ru/vse-obrashcheniya/40...</td>\n",
       "      <td>guestbook</td>\n",
       "      <td>2024-02-21</td>\n",
       "      <td>2024-02-16</td>\n",
       "      <td>Краткая информация об итогах приема гражданина...</td>\n",
       "      <td>Краткая информация об итогах приема гражданина...</td>\n",
       "    </tr>\n",
       "    <tr>\n",
       "      <th>2</th>\n",
       "      <td>https://guestbook.spbu.ru/vse-obrashcheniya/40...</td>\n",
       "      <td>guestbook</td>\n",
       "      <td>2024-02-21</td>\n",
       "      <td>2024-02-16</td>\n",
       "      <td>Краткая информация об итогах приема гражданина...</td>\n",
       "      <td>Краткая информация об итогах приема гражданина...</td>\n",
       "    </tr>\n",
       "    <tr>\n",
       "      <th>3</th>\n",
       "      <td>https://guestbook.spbu.ru/upravleniya/yprav-po...</td>\n",
       "      <td>guestbook</td>\n",
       "      <td>2024-02-21</td>\n",
       "      <td>2024-02-16</td>\n",
       "      <td>Краткая информация об итогах приема гражданина...</td>\n",
       "      <td>Краткая информация об итогах приема гражданина...</td>\n",
       "    </tr>\n",
       "    <tr>\n",
       "      <th>4</th>\n",
       "      <td>https://guestbook.spbu.ru/creor/19973-ob-onlaj...</td>\n",
       "      <td>guestbook</td>\n",
       "      <td>2024-02-21</td>\n",
       "      <td>2024-02-16</td>\n",
       "      <td>Об онлайн-курсе СПбГУ</td>\n",
       "      <td>Об онлайн-курсе СПбГУ - заголовок страницы;; П...</td>\n",
       "    </tr>\n",
       "  </tbody>\n",
       "</table>\n",
       "</div>"
      ],
      "text/plain": [
       "                                                 url topic_block parsing_date  \\\n",
       "0  https://guestbook.spbu.ru/uchenyj-sekretar-uc/...   guestbook   2024-02-21   \n",
       "1  https://guestbook.spbu.ru/vse-obrashcheniya/40...   guestbook   2024-02-21   \n",
       "2  https://guestbook.spbu.ru/vse-obrashcheniya/40...   guestbook   2024-02-21   \n",
       "3  https://guestbook.spbu.ru/upravleniya/yprav-po...   guestbook   2024-02-21   \n",
       "4  https://guestbook.spbu.ru/creor/19973-ob-onlaj...   guestbook   2024-02-21   \n",
       "\n",
       "  public_date                                              title  \\\n",
       "0  2024-02-20        Рассмотрение диссертации (пакет документов)   \n",
       "1  2024-02-16  Краткая информация об итогах приема гражданина...   \n",
       "2  2024-02-16  Краткая информация об итогах приема гражданина...   \n",
       "3  2024-02-16  Краткая информация об итогах приема гражданина...   \n",
       "4  2024-02-16                              Об онлайн-курсе СПбГУ   \n",
       "\n",
       "                                             context  \n",
       "0  Рассмотрение диссертации (пакет документов) - ...  \n",
       "1  Краткая информация об итогах приема гражданина...  \n",
       "2  Краткая информация об итогах приема гражданина...  \n",
       "3  Краткая информация об итогах приема гражданина...  \n",
       "4  Об онлайн-курсе СПбГУ - заголовок страницы;; П...  "
      ]
     },
     "execution_count": 4,
     "metadata": {},
     "output_type": "execute_result"
    }
   ],
   "source": [
    "guest_df.head()"
   ]
  },
  {
   "cell_type": "code",
   "execution_count": 5,
   "metadata": {},
   "outputs": [
    {
     "name": "stdout",
     "output_type": "stream",
     "text": [
      "Рассмотрение диссертации (пакет документов)\n",
      "Рассмотрение диссертации (пакет документов) - заголовок страницы;; Имею ли я право подать на рассмотрение диссертацию в статусе ранее обучавшегося в аспирантуре. Какие документы необходимо подавать для этого на данный момент времени. Ответ ученого секретаря СПбГУ Александра Валентиновича Гнётова: Ваше обращение, поступившее в Санкт-Петербургский государственный университет (вх. СПбГУ от 13.02.2024 № 01-13-100), рассмотрено, и по итогам его рассмотрения сообщаю Вам следующее. Процедура приема диссертации к рассмотрению и защите в Санкт-Петербургском государственном университете осуществляется в соответствии с Приказом СПбГУ от 19.11.2021 № 11181/1 «О порядке присуждения ученых степеней в Санкт-Петербургском государственном университете» с последующими изменениями и дополнениями (далее — Приказ). Соискатель ученой степени должен соответствовать обязательным требованиям, установленным п. 3 Положения о присуждении ученых степеней, утвержденного Постановлением Правительства Российской Федерации от 24.09.2013 № 842 и п. 3 Порядка присуждения в СПбГУ ученой степени кандидата наук, ученой степени доктора наук (далее — Порядок), утвержденного Приказом. Таким образом, к соисканию ученой степени кандидата наук допускаются лица, подготовившие диссертацию на соискание ученой степени кандидата наук при освоении программы подготовки научных и научно-педагогических кадров в аспирантуре. Перечень необходимых документов для представления диссертации к рассмотрению и защите указан в п. 12 Порядка. Требования к количеству публикаций, в которых излагаются основные научные результаты диссертации на соискание ученой степени кандидата наук, размещены на сайтеСПбГУ. Обращаю Ваше внимание на то, что кандидатские экзамены сдаются в соответствии с научной специальностью и отраслью науки, предусмотренными номенклатурой научных специальностей, по которым присуждаютсяученые степени в СПбГУ, по которым подготовлена диссертация. При возникновении дополнительных вопросов Вы можете получить консультацию в отношении представления диссертации к рассмотрению и защите в СПбГУ, обратившись к сотрудникам отдела по обеспечению деятельности диссертационных советов (тел. (812) 363—61—14, электронная почта: dissovet@spbu.ru). Метки: Документы, Диссертации\n"
     ]
    }
   ],
   "source": [
    "idx = 0\n",
    "print(guest_df['title'][0])\n",
    "print(guest_df['context'][0]) #Здесь содержание не учитывает всех требований, описанных в инструкции. Скорее просто для демонстрации"
   ]
  },
  {
   "cell_type": "code",
   "execution_count": 7,
   "metadata": {},
   "outputs": [],
   "source": [
    "#(Просто для ознакомления)\n",
    "#Функции parse_new_data и save_parsed_data используются для парсинга и сохранения в БД (это делаем уже мы)\n",
    "#Но если хотите попробовать сохранить результаты локально, то установите pgAdmin4 и создайте БД\n",
    "\n",
    "# new_guest_df, update_guest_df = parse_new_data(parser=guest_parser,\n",
    "#                                                table_name=f'{UNI_NAME}_basic_data', \n",
    "#                                                database_name=DB_NAME, \n",
    "#                                                replace=False)\n",
    "\n",
    "# save_parsed_data(new_df=new_guest_df,\n",
    "#                  update_df=update_guest_df,\n",
    "#                  table_name=BasicData,\n",
    "#                  database_name=DB_NAME)"
   ]
  },
  {
   "cell_type": "markdown",
   "metadata": {},
   "source": [
    "### Блок \"Образовательные программы\""
   ]
  },
  {
   "cell_type": "markdown",
   "metadata": {},
   "source": [
    "https://spbu.ru/postupayushchim/programms/"
   ]
  },
  {
   "cell_type": "code",
   "execution_count": 6,
   "metadata": {},
   "outputs": [],
   "source": [
    "from template_block_parsers import Edu_programms_parser\n",
    "programms_parser = Edu_programms_parser(time_sleep=False)"
   ]
  },
  {
   "cell_type": "code",
   "execution_count": null,
   "metadata": {},
   "outputs": [],
   "source": [
    "programms_df = parse_data(programms_parser)"
   ]
  },
  {
   "cell_type": "code",
   "execution_count": null,
   "metadata": {},
   "outputs": [],
   "source": [
    "programms_df.head()"
   ]
  },
  {
   "cell_type": "markdown",
   "metadata": {},
   "source": [
    "# Ваши блоки"
   ]
  },
  {
   "cell_type": "markdown",
   "metadata": {},
   "source": []
  },
  {
   "cell_type": "code",
   "execution_count": null,
   "metadata": {},
   "outputs": [],
   "source": [
    "from block_parsers import "
   ]
  }
 ],
 "metadata": {
  "kernelspec": {
   "display_name": "Python 3.11.6 64-bit",
   "language": "python",
   "name": "python3"
  },
  "language_info": {
   "codemirror_mode": {
    "name": "ipython",
    "version": 3
   },
   "file_extension": ".py",
   "mimetype": "text/x-python",
   "name": "python",
   "nbconvert_exporter": "python",
   "pygments_lexer": "ipython3",
   "version": "3.11.6"
  },
  "orig_nbformat": 4,
  "vscode": {
   "interpreter": {
    "hash": "b0fa6594d8f4cbf19f97940f81e996739fb7646882a419484c72d19e05852a7e"
   }
  }
 },
 "nbformat": 4,
 "nbformat_minor": 2
}
